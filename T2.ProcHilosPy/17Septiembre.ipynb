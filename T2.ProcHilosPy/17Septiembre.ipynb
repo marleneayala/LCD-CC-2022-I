{
  "nbformat": 4,
  "nbformat_minor": 0,
  "metadata": {
    "colab": {
      "name": "CC_Sep17.ipynb",
      "provenance": []
    },
    "kernelspec": {
      "name": "python3",
      "display_name": "Python 3"
    },
    "language_info": {
      "name": "python"
    }
  },
  "cells": [
    {
      "cell_type": "code",
      "metadata": {
        "id": "QNQSWlVNTWsj"
      },
      "source": [
        "import multiprocessing as mp\n",
        "import time\n",
        "import os\n",
        "from multiprocessing import Process"
      ],
      "execution_count": 1,
      "outputs": []
    },
    {
      "cell_type": "code",
      "metadata": {
        "colab": {
          "base_uri": "https://localhost:8080/"
        },
        "id": "KGyKtHMiTvCd",
        "outputId": "c8bdf492-f03e-4a59-84a4-cefa85b571ad"
      },
      "source": [
        "print(\"modulo name:\", __name__)\n",
        "print(\"parent process: \", os.getppid())\n",
        "print(\"process id:\", os.getpid())"
      ],
      "execution_count": 2,
      "outputs": [
        {
          "output_type": "stream",
          "name": "stdout",
          "text": [
            "modulo name: __main__\n",
            "parent process:  54\n",
            "process id: 66\n"
          ]
        }
      ]
    },
    {
      "cell_type": "code",
      "metadata": {
        "colab": {
          "base_uri": "https://localhost:8080/"
        },
        "id": "4lyzLFh1V-lk",
        "outputId": "2530e29b-80f9-448a-ba2d-b59270284720"
      },
      "source": [
        "def info(titulo):\n",
        "  print(titulo)\n",
        "  print(\"module name:\", __name__)\n",
        "  print(\"parent process: \", os.getppid())\n",
        "  print(\"process id:\", os.getpid())\n",
        "\n",
        "def f(nombre):\n",
        "  info(\"Funcion f\")\n",
        "  print(\"Hello\", nombre)\n",
        "  print(\"-------\")\n",
        "\n",
        "info(\"Primera linea\")\n",
        "p = Process(target=f, args=(\"oscar\",))\n",
        "p.start()\n",
        "p.join()"
      ],
      "execution_count": 3,
      "outputs": [
        {
          "output_type": "stream",
          "name": "stdout",
          "text": [
            "Primera linea\n",
            "module name: __main__\n",
            "parent process:  54\n",
            "process id: 66\n",
            "Funcion f\n",
            "module name: __main__\n",
            "parent process:  66\n",
            "process id: 102\n",
            "Hello oscar\n",
            "-------\n"
          ]
        }
      ]
    },
    {
      "cell_type": "code",
      "metadata": {
        "colab": {
          "base_uri": "https://localhost:8080/"
        },
        "id": "mhPJuzSiXaKg",
        "outputId": "9bd6a9ba-f61f-4104-f615-f27a967a9c15"
      },
      "source": [
        "#Visibilidad de variables\n",
        "\n",
        "nums_res = []\n",
        "\n",
        "def calc_cuad(numeros):\n",
        "  global nums_res\n",
        "  for n in numeros:\n",
        "    print(\"cuadrado\", n*n)\n",
        "    nums_res.append(n*n)\n",
        "\n",
        "nums = range(10)\n",
        "\n",
        "t= time.time()\n",
        "pl= mp.Process(target=calc_cuad, args=(nums,))\n",
        "\n",
        "pl.start()\n",
        "pl.join()\n",
        "\n",
        "print(\"Tiempo de ejecución: \", time.time()-t)\n",
        "print(\"Resultado del proceso: \", nums_res)\n",
        "print(\"Finaliza ejecución\")"
      ],
      "execution_count": 4,
      "outputs": [
        {
          "output_type": "stream",
          "name": "stdout",
          "text": [
            "cuadrado 0\n",
            "cuadrado 1\n",
            "cuadrado 4\n",
            "cuadrado 9\n",
            "cuadrado 16\n",
            "cuadrado 25\n",
            "cuadrado 36\n",
            "cuadrado 49\n",
            "cuadrado 64\n",
            "cuadrado 81\n",
            "Tiempo de ejecución:  0.10094523429870605\n",
            "Resultado del proceso:  []\n",
            "Finaliza ejecución\n"
          ]
        }
      ]
    },
    {
      "cell_type": "code",
      "metadata": {
        "colab": {
          "base_uri": "https://localhost:8080/"
        },
        "id": "CtxE-YnaYIKC",
        "outputId": "19c98035-e178-4127-a0c0-262a4b197f36"
      },
      "source": [
        "nums_res = mp.Array(\"i\",10)\n",
        "\n",
        "def calc_cuad(numeros):\n",
        "  global nums_res\n",
        "  for i in range(len(numeros)):\n",
        "    print(\"cuadrado: \", numeros[i]**2)\n",
        "    nums_res[i] = numeros[i]**2\n",
        "\n",
        "nums = range(10)\n",
        "t= time.time()\n",
        "pl= mp.Process(target=calc_cuad, args=(nums,))\n",
        "\n",
        "pl.start()\n",
        "pl.join()\n",
        "\n",
        "print(\"Tiempo de ejecución: \", time.time()-t)\n",
        "print(\"Resultado del proceso: \", nums_res)\n",
        "print(\"Finaliza ejecución\")"
      ],
      "execution_count": 5,
      "outputs": [
        {
          "output_type": "stream",
          "name": "stdout",
          "text": [
            "cuadrado:  0\n",
            "cuadrado:  1\n",
            "cuadrado:  4\n",
            "cuadrado:  9\n",
            "cuadrado:  16\n",
            "cuadrado:  25\n",
            "cuadrado:  36\n",
            "cuadrado:  49\n",
            "cuadrado:  64\n",
            "cuadrado:  81\n",
            "Tiempo de ejecución:  0.07090425491333008\n",
            "Resultado del proceso:  <SynchronizedArray wrapper for <multiprocessing.sharedctypes.c_int_Array_10 object at 0x7fdc63b34ef0>>\n",
            "Finaliza ejecución\n"
          ]
        }
      ]
    }
  ]
}