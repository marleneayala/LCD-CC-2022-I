{
  "nbformat": 4,
  "nbformat_minor": 0,
  "metadata": {
    "colab": {
      "name": "CC_Sep21.ipynb",
      "provenance": []
    },
    "kernelspec": {
      "name": "python3",
      "display_name": "Python 3"
    },
    "language_info": {
      "name": "python"
    }
  },
  "cells": [
    {
      "cell_type": "code",
      "metadata": {
        "id": "LQYBtmETZrtz"
      },
      "source": [
        "import multiprocessing as mp\n",
        "import time\n",
        "import os\n",
        "from multiprocessing import Process, current_process"
      ],
      "execution_count": 1,
      "outputs": []
    },
    {
      "cell_type": "code",
      "metadata": {
        "colab": {
          "base_uri": "https://localhost:8080/"
        },
        "id": "Ma334VFEaR57",
        "outputId": "0f5eb2c5-66d9-462b-d20f-6703e70093ab"
      },
      "source": [
        "def f1():\n",
        "  pname = current_process().name\n",
        "  print(\"Starting process %s...\" % pname)\n",
        "  time.sleep(2)\n",
        "  print(\"exiting process %s...\" % pname)\n",
        "\n",
        "def f2():\n",
        "  pname = current_process().name\n",
        "  print(\"Starting process %s...\" % pname)\n",
        "  time.sleep(4)\n",
        "  print(\"exiting process %s...\" % pname)\n",
        "\n",
        "if __name__ == \"__main__\":\n",
        "  p1 = Process(name=\"worker 1\", target=f1)\n",
        "  p2 = Process(name=\"worker 2\", target=f2)\n",
        "  p3 = Process(target=f1)\n",
        "  p1.start()\n",
        "  p2.start()\n",
        "  p3.start()\n",
        "\n",
        "  p1.join()\n",
        "  p2.join()\n",
        "  p3.join()"
      ],
      "execution_count": 2,
      "outputs": [
        {
          "output_type": "stream",
          "name": "stdout",
          "text": [
            "Starting process worker 1...\n",
            "Starting process worker 2...\n",
            "Starting process Process-3...\n",
            "exiting process worker 1...\n",
            "exiting process Process-3...\n",
            "exiting process worker 2...\n"
          ]
        }
      ]
    },
    {
      "cell_type": "code",
      "metadata": {
        "colab": {
          "base_uri": "https://localhost:8080/"
        },
        "id": "tND1Q-hPbLa8",
        "outputId": "744544a0-8f13-4109-ada3-77cde3d2afc1"
      },
      "source": [
        "def TareaProceso():\n",
        "  pactual = mp.current_process()\n",
        "  print(\"Proceso hijo pid: {}\" .format(pactual.pid))\n",
        "\n",
        "miproceso=mp.Process(target=TareaProceso)\n",
        "miproceso.start()\n",
        "time.sleep(10)\n",
        "print(\"Proceso padre ha terminado, termina el proceso main\")\n",
        "print(\"Proceso hijo terminado...\")\n",
        "miproceso.terminate()\n",
        "print(\"Proceso hijo finaliza con éxito\")"
      ],
      "execution_count": 3,
      "outputs": [
        {
          "output_type": "stream",
          "name": "stdout",
          "text": [
            "Proceso hijo pid: 118\n",
            "Proceso padre ha terminado, termina el proceso main\n",
            "Proceso hijo terminado...\n",
            "Proceso hijo finaliza con éxito\n"
          ]
        }
      ]
    },
    {
      "cell_type": "code",
      "metadata": {
        "colab": {
          "base_uri": "https://localhost:8080/"
        },
        "id": "qPvtmOkJZefB",
        "outputId": "ee82b6df-3712-43ab-8031-1040c0085141"
      },
      "source": [
        "import time\n",
        "\n",
        "def TareaHijo():\n",
        "  print(\"Proceso hijo con PID: {}\" .format(mp.current_process().pid))\n",
        "  time.sleep(3)\n",
        "  print(\"Fin del proceso hijo\")\n",
        "\n",
        "def main():\n",
        "  print(\"Proceso Padre con PID: {}\".format(mp.current_process().pid))\n",
        "  miproceso = mp.Process(target=TareaHijo)\n",
        "  miproceso.start()\n",
        "  miproceso.join()\n",
        "  print(\"Fin del proceso padre\")\n",
        "\n",
        "main()"
      ],
      "execution_count": 4,
      "outputs": [
        {
          "output_type": "stream",
          "name": "stdout",
          "text": [
            "Proceso Padre con PID: 63\n",
            "Proceso hijo con PID: 123\n",
            "Fin del proceso hijo\n",
            "Fin del proceso padre\n"
          ]
        }
      ]
    },
    {
      "cell_type": "code",
      "metadata": {
        "colab": {
          "base_uri": "https://localhost:8080/"
        },
        "id": "y_GrXoe5b0e9",
        "outputId": "d6452fab-a358-4908-a0ea-1c1a2ce54f64"
      },
      "source": [
        "def miproceso():\n",
        "  print(\"Proceso con nombre: {}\".format(mp.current_process().name))\n",
        "\n",
        "def main():\n",
        "  phijo = mp.Process(target = miproceso, name=\"Proceso_LCD-CC\")\n",
        "  phijo.start()\n",
        "  phijo.join()\n",
        "main()"
      ],
      "execution_count": 5,
      "outputs": [
        {
          "output_type": "stream",
          "name": "stdout",
          "text": [
            "Proceso con nombre: Proceso_LCD-CC\n"
          ]
        }
      ]
    },
    {
      "cell_type": "code",
      "metadata": {
        "colab": {
          "base_uri": "https://localhost:8080/"
        },
        "id": "U8f3RJBPb3qv",
        "outputId": "06398163-b420-4723-c8ab-955d17620693"
      },
      "source": [
        "def TareaHijo0():\n",
        "  print(\"Proceso hijo 1 con PID: {}\" .format(mp.current_process().pid))\n",
        "  print(\"Proceso hijo 1 con nombre: {}\".format(mp.current_process().name))\n",
        "  time.sleep(3)\n",
        "  print(\"Fin del proceso hijo 1\")\n",
        "\n",
        "def TareaHijo1():\n",
        "  print(\"Proceso hijo 2 con PID: {}\" .format(mp.current_process().pid))\n",
        "  print(\"Proceso hijo 2 con nombre: {}\".format(mp.current_process().name))\n",
        "  time.sleep(3)\n",
        "  print(\"Fin del proceso hijo 2\")\n",
        "\n",
        "def TareaHijo2():\n",
        "  print(\"Proceso hijo 3 con PID: {}\" .format(mp.current_process().pid))\n",
        "  print(\"Proceso hijo 3 con nombre: {}\".format(mp.current_process().name))\n",
        "  time.sleep(3)\n",
        "  print(\"Fin del proceso hijo 3\")\n",
        "\n",
        "def main():\n",
        "  print(\"Proceso Padre con PID: {}\".format(mp.current_process().pid))\n",
        "  miproceso0 = mp.Process(target=TareaHijo0)\n",
        "  miproceso1 = mp.Process(target=TareaHijo1)\n",
        "  miproceso2 = mp.Process(target=TareaHijo2)\n",
        "  miproceso0.start()\n",
        "  miproceso1.start()\n",
        "  miproceso2.start()\n",
        "  miproceso0.join()\n",
        "  miproceso1.join()\n",
        "  miproceso2.join()\n",
        "  print(\"Fin del proceso padre\")\n",
        "\n",
        "main()"
      ],
      "execution_count": 6,
      "outputs": [
        {
          "output_type": "stream",
          "name": "stdout",
          "text": [
            "Proceso Padre con PID: 63\n",
            "Proceso hijo 1 con PID: 131\n",
            "Proceso hijo 1 con nombre: Process-7\n",
            "Proceso hijo 2 con PID: 132\n",
            "Proceso hijo 2 con nombre: Process-8\n",
            "Proceso hijo 3 con PID: 135\n",
            "Proceso hijo 3 con nombre: Process-9\n",
            "Fin del proceso hijo 1\n",
            "Fin del proceso hijo 2\n",
            "Fin del proceso hijo 3\n",
            "Fin del proceso padre\n"
          ]
        }
      ]
    },
    {
      "cell_type": "code",
      "metadata": {
        "colab": {
          "base_uri": "https://localhost:8080/"
        },
        "id": "3bypipgib6aB",
        "outputId": "ec2c05ac-2368-4a51-90a4-2e323f61389f"
      },
      "source": [
        "def TareaProceso():\n",
        "  pactual = mp.current_process()\n",
        "  print(\"Proceso hijo PID: {} \" .format(pactual.pid))\n",
        "  time.sleep(1)\n",
        "  print(\"Continúa la ejecución\")\n",
        "\n",
        "miproceso = mp.Process(target=TareaProceso)\n",
        "miproceso.start()\n",
        "time.sleep(3)\n",
        "print(\"Proceso padre ha terminado. Termina el proceso main\")\n",
        "print(\"Proceso hijo terminado...\")\n",
        "miproceso.terminate()\n",
        "print(\"Proceso hijo finaliza con éxito\")"
      ],
      "execution_count": 7,
      "outputs": [
        {
          "output_type": "stream",
          "name": "stdout",
          "text": [
            "Proceso hijo PID: 154 \n",
            "Continúa la ejecución\n",
            "Proceso padre ha terminado. Termina el proceso main\n",
            "Proceso hijo terminado...\n",
            "Proceso hijo finaliza con éxito\n"
          ]
        }
      ]
    },
    {
      "cell_type": "code",
      "metadata": {
        "colab": {
          "base_uri": "https://localhost:8080/"
        },
        "id": "p7Qefc3ob9K4",
        "outputId": "bc1ffe6b-7043-4c47-9441-798a550c1b18"
      },
      "source": [
        "from multiprocessing import Process, Queue\n",
        "\n",
        "def worker(num, q):\n",
        "  print(\"Se pone en la cola: \", num*num)\n",
        "  q.put(num*num)\n",
        "\n",
        "if __name__ == \"__main__\":\n",
        "  my_queue = Queue()\n",
        "  p = Process(target=worker, args=(5, my_queue))\n",
        "  p.start()\n",
        "  p.join()\n",
        "\n",
        "  print(\"Se lee de la cola: \", my_queue.get())"
      ],
      "execution_count": 8,
      "outputs": [
        {
          "output_type": "stream",
          "name": "stdout",
          "text": [
            "Se pone en la cola:  25\n",
            "Se lee de la cola:  25\n"
          ]
        }
      ]
    },
    {
      "cell_type": "code",
      "metadata": {
        "colab": {
          "base_uri": "https://localhost:8080/"
        },
        "id": "4WvpqKtjcALr",
        "outputId": "8cbf9c72-b9ca-4023-d3ec-25dabaefd15b"
      },
      "source": [
        "def worker1(num, q):\n",
        "  print(\"Worker 1. Se pone en la cola: \", num*num)\n",
        "  q.put(num*num)\n",
        "\n",
        "def worker2(num, q):\n",
        "  print(\"Worker 2. Se pone en la cola: \", num*num)\n",
        "  q.put(num*num)\n",
        "\n",
        "def worker3(num, q):\n",
        "  print(\"Worker 3. Se pone en la cola: \", num*num)\n",
        "  q.put(num*num)\n",
        "\n",
        "if __name__ == \"__main__\":\n",
        "  my_queue = Queue()\n",
        "  p1 = Process(target=worker1, args=(2, my_queue))\n",
        "  p2 = Process(target=worker2, args=(4, my_queue))\n",
        "  p3 = Process(target=worker3, args=(6, my_queue))\n",
        "  p1.start()\n",
        "  p2.start()\n",
        "  p3.start()\n",
        "  p1.join()\n",
        "  p2.join()\n",
        "  p3.join()\n",
        "\n",
        "  L= []\n",
        "  while not my_queue.empty():\n",
        "      L.append(my_queue.get())\n",
        "  print(\"Se lee de la cola: \", L)"
      ],
      "execution_count": 9,
      "outputs": [
        {
          "output_type": "stream",
          "name": "stdout",
          "text": [
            "Worker 1. Se pone en la cola:  4\n",
            "Worker 2. Se pone en la cola:  16\n",
            "Worker 3. Se pone en la cola:  36\n",
            "Se lee de la cola:  [4, 16, 36]\n"
          ]
        }
      ]
    },
    {
      "cell_type": "code",
      "metadata": {
        "id": "s46Km0vqcCNs"
      },
      "source": [
        ""
      ],
      "execution_count": 9,
      "outputs": []
    }
  ]
}